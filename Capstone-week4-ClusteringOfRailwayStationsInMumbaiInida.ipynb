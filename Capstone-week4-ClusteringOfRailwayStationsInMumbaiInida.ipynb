{
 "cells": [
  {
   "cell_type": "markdown",
   "metadata": {},
   "source": [
    "<h1 align=center><font size = 5>Clustering of Railway Stations on Suburban railway  lines in Mumbai, India</font></h1>"
   ]
  },
  {
   "cell_type": "markdown",
   "metadata": {},
   "source": [
    "## Introduction\n",
    "<p>The Mumbai suburban rail network, which is the commuter rail network of the city of Mumbai, India, is one of the busiest commuter rail networks in the world.  It carries more than 7.5 million passengers in a normal day and it is spread over 340km of track length. It has about 150 railway stations covering the city and the suburban areas. </p> \n",
    "<p>Most of the customers of this rail network are the middle class and working class population and there is an economy surrounding such commuters.  Many small time vendors and shopkeepers depend on the traffic at each station and such businesses form one of the major part of the informal economy of India.</p>\n",
    "<p>The railways stations are also a major crowd management hotspots.  Thousands of people converge in a small area in a short time and they disperse to various palces.  Being the backbone of the entire transport network of the city, study of the traffic flow at these railway stations are important in both large scale and locality level city planning. </p>\n",
    "<p> When the network and stations were originally planned, the city was different.  Today the city has grown and many of the once remote stations have now become the centres of new developments.  An analysis of how each railway station has developed will help in better urban planning.</p>\n",
    "<p> In this regard, the mumbai suburban railway stations are studied using clustering to see how similar or how different each station has grown to in terms of establishments that have come up around them.  The popular venues are used to cluster the railway stations, and the popularity is dependant on two factors at the least: (1) establishments around the stations and (2) type of travellers who frequent one station.  Since the types of establishments that have come up at a location will also be related the type of people who frequent the stations, the popular locations should be a good parameter to classify the stations with.  It is hoped that this analysis will help in better city planning around each station.</p>"
   ]
  },
  {
   "cell_type": "markdown",
   "metadata": {},
   "source": [
    "# Business Problem\n",
    "How different or how similar are the railway stations along the suburban lines of the city of Mumbai, in terms of the popular establishments around them"
   ]
  },
  {
   "cell_type": "markdown",
   "metadata": {},
   "source": [
    "# Data\n",
    "For this project the following data will be used:\n",
    "1. List of suburban railway stations:\n",
    "source: Wikipedea\n",
    "Link: https://en.wikipedia.org/wiki/List_of_Mumbai_Suburban_Railway_stations\n",
    "2. Coordinates of each railway stations:\n",
    "from different sources using geopy library\n",
    "3. Venues data:\n",
    "source: Forsquare\n",
    "\n",
    "<p> We will get a list of the railway stations from the wikipedia page and convert it into a pandas data frame.  Then for each station, we will get the geo coordinates using geopy.  Using the latitude and logitude of each station, we will collect nearby venues from Forsquare and then conduct analyses.</p>"
   ]
  },
  {
   "cell_type": "code",
   "execution_count": null,
   "metadata": {},
   "outputs": [],
   "source": []
  }
 ],
 "metadata": {
  "kernelspec": {
   "display_name": "Python 3",
   "language": "python",
   "name": "python3"
  },
  "language_info": {
   "codemirror_mode": {
    "name": "ipython",
    "version": 3
   },
   "file_extension": ".py",
   "mimetype": "text/x-python",
   "name": "python",
   "nbconvert_exporter": "python",
   "pygments_lexer": "ipython3",
   "version": "3.6.8"
  }
 },
 "nbformat": 4,
 "nbformat_minor": 2
}
